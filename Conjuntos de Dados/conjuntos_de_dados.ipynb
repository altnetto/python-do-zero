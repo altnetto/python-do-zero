{
 "cells": [
  {
   "cell_type": "markdown",
   "source": [
    "### Conjuntos de Dados\r\n",
    "\r\n",
    "#### Sets, Dicionários e Tuplas"
   ],
   "metadata": {}
  },
  {
   "cell_type": "code",
   "execution_count": 2,
   "source": [
    "a = [1,1,1,2,3,4,5]\r\n",
    "a"
   ],
   "outputs": [
    {
     "output_type": "execute_result",
     "data": {
      "text/plain": [
       "[1, 1, 1, 2, 3, 4, 5]"
      ]
     },
     "metadata": {},
     "execution_count": 2
    }
   ],
   "metadata": {}
  },
  {
   "cell_type": "code",
   "execution_count": 3,
   "source": [
    "meu_primeiro_set = set(a)\r\n",
    "meu_primeiro_set"
   ],
   "outputs": [
    {
     "output_type": "execute_result",
     "data": {
      "text/plain": [
       "{1, 2, 3, 4, 5}"
      ]
     },
     "metadata": {},
     "execution_count": 3
    }
   ],
   "metadata": {}
  },
  {
   "cell_type": "code",
   "execution_count": 8,
   "source": [
    "meu_segundo_set = {\r\n",
    "    'arroz',\r\n",
    "    'feijão',\r\n",
    "    'lentilha'\r\n",
    "}\r\n",
    "\r\n",
    "meu_segundo_set"
   ],
   "outputs": [
    {
     "output_type": "execute_result",
     "data": {
      "text/plain": [
       "{'arroz', 'feijão', 'lentilha'}"
      ]
     },
     "metadata": {},
     "execution_count": 8
    }
   ],
   "metadata": {}
  },
  {
   "cell_type": "code",
   "execution_count": 10,
   "source": [
    "print(a[0])\r\n",
    "print(a[-1])"
   ],
   "outputs": [
    {
     "output_type": "stream",
     "name": "stdout",
     "text": [
      "1\n",
      "5\n"
     ]
    }
   ],
   "metadata": {}
  },
  {
   "cell_type": "code",
   "execution_count": 12,
   "source": [
    "print('arroz' in meu_segundo_set)\r\n",
    "print('carne' in meu_segundo_set)"
   ],
   "outputs": [
    {
     "output_type": "stream",
     "name": "stdout",
     "text": [
      "True\n",
      "False\n"
     ]
    }
   ],
   "metadata": {}
  },
  {
   "cell_type": "markdown",
   "source": [
    "### Dicionários\r\n",
    "\r\n",
    "chave - valor"
   ],
   "metadata": {}
  },
  {
   "cell_type": "code",
   "execution_count": 17,
   "source": [
    "meu_primeiro_dicionario = {\r\n",
    "    1: 'teste',\r\n",
    "    '1': 'segundo teste'\r\n",
    "}\r\n",
    "\r\n",
    "print(meu_primeiro_dicionario[1])\r\n",
    "print(meu_primeiro_dicionario['1'])"
   ],
   "outputs": [
    {
     "output_type": "stream",
     "name": "stdout",
     "text": [
      "teste\n",
      "segundo teste\n"
     ]
    }
   ],
   "metadata": {}
  },
  {
   "cell_type": "code",
   "execution_count": 20,
   "source": [
    "meu_segundo_dicionario = dict()\r\n",
    "\r\n",
    "meu_segundo_dicionario['outro valor'] = 'um novo valor'\r\n",
    "meu_segundo_dicionario"
   ],
   "outputs": [
    {
     "output_type": "execute_result",
     "data": {
      "text/plain": [
       "{'outro valor': 'um novo valor'}"
      ]
     },
     "metadata": {},
     "execution_count": 20
    }
   ],
   "metadata": {}
  },
  {
   "cell_type": "code",
   "execution_count": 21,
   "source": [
    "meu_segundo_dicionario['outro valor'] = 'agora temos um valor diferente'\r\n",
    "\r\n",
    "meu_segundo_dicionario"
   ],
   "outputs": [
    {
     "output_type": "execute_result",
     "data": {
      "text/plain": [
       "{'outro valor': 'agora temos um valor diferente'}"
      ]
     },
     "metadata": {},
     "execution_count": 21
    }
   ],
   "metadata": {}
  },
  {
   "cell_type": "code",
   "execution_count": 23,
   "source": [
    "meu_segundo_dicionario['outro valor '] = 'novo valor para outro valor'\r\n",
    "\r\n",
    "meu_segundo_dicionario"
   ],
   "outputs": [
    {
     "output_type": "execute_result",
     "data": {
      "text/plain": [
       "{'outro valor': 'agora temos um valor diferente',\n",
       " 'almoço_segunda': ['arroz', 'feijão', 'frango', 'legumes'],\n",
       " 'outro valor ': 'novo valor para outro valor'}"
      ]
     },
     "metadata": {},
     "execution_count": 23
    }
   ],
   "metadata": {}
  },
  {
   "cell_type": "code",
   "execution_count": 22,
   "source": [
    "meu_segundo_dicionario['almoço_segunda'] = ['arroz', 'feijão', 'frango', 'legumes']\r\n",
    "\r\n",
    "meu_segundo_dicionario['almoço_segunda']"
   ],
   "outputs": [
    {
     "output_type": "execute_result",
     "data": {
      "text/plain": [
       "['arroz', 'feijão', 'frango', 'legumes']"
      ]
     },
     "metadata": {},
     "execution_count": 22
    }
   ],
   "metadata": {}
  },
  {
   "cell_type": "code",
   "execution_count": 24,
   "source": [
    "meu_segundo_dicionario.keys()"
   ],
   "outputs": [
    {
     "output_type": "execute_result",
     "data": {
      "text/plain": [
       "dict_keys(['outro valor', 'almoço_segunda', 'outro valor '])"
      ]
     },
     "metadata": {},
     "execution_count": 24
    }
   ],
   "metadata": {}
  },
  {
   "cell_type": "code",
   "execution_count": 25,
   "source": [
    "meu_segundo_dicionario.values()"
   ],
   "outputs": [
    {
     "output_type": "execute_result",
     "data": {
      "text/plain": [
       "dict_values(['agora temos um valor diferente', ['arroz', 'feijão', 'frango', 'legumes'], 'novo valor para outro valor'])"
      ]
     },
     "metadata": {},
     "execution_count": 25
    }
   ],
   "metadata": {}
  },
  {
   "cell_type": "code",
   "execution_count": 26,
   "source": [
    "meu_segundo_dicionario.items()"
   ],
   "outputs": [
    {
     "output_type": "execute_result",
     "data": {
      "text/plain": [
       "dict_items([('outro valor', 'agora temos um valor diferente'), ('almoço_segunda', ['arroz', 'feijão', 'frango', 'legumes']), ('outro valor ', 'novo valor para outro valor')])"
      ]
     },
     "metadata": {},
     "execution_count": 26
    }
   ],
   "metadata": {}
  },
  {
   "cell_type": "code",
   "execution_count": 29,
   "source": [
    "print(meu_segundo_dicionario.get('almoço_sabado', []))"
   ],
   "outputs": [
    {
     "output_type": "stream",
     "name": "stdout",
     "text": [
      "[]\n"
     ]
    }
   ],
   "metadata": {}
  },
  {
   "cell_type": "markdown",
   "source": [
    "Exercício:\r\n",
    "\r\n",
    "Monte um dicionário que irá coletar o tempo gasto, em horas, em atividades de python durante a semana e retornar um valor total."
   ],
   "metadata": {}
  },
  {
   "cell_type": "code",
   "execution_count": 35,
   "source": [
    "atividades = {\r\n",
    "    'segunda': 5,\r\n",
    "    'terça': 2,\r\n",
    "    'quinta': 1,\r\n",
    "    'domingo': 1\r\n",
    "}"
   ],
   "outputs": [],
   "metadata": {}
  },
  {
   "cell_type": "code",
   "execution_count": 36,
   "source": [
    "dias_da_semana = {\r\n",
    "    'segunda',\r\n",
    "    'terça',\r\n",
    "    'quarta',\r\n",
    "    'quinta',\r\n",
    "    'sexta',\r\n",
    "    'sabado',\r\n",
    "    'domingo'\r\n",
    "    }"
   ],
   "outputs": [],
   "metadata": {}
  },
  {
   "cell_type": "code",
   "execution_count": 39,
   "source": [
    "for dia in dias_da_semana:\r\n",
    "    print(dia, '->', atividades.get(dia))"
   ],
   "outputs": [
    {
     "output_type": "stream",
     "name": "stdout",
     "text": [
      "sabado -> None\n",
      "sexta -> None\n",
      "quinta -> 1\n",
      "terça -> 2\n",
      "quarta -> None\n",
      "segunda -> 5\n",
      "domingo -> 1\n"
     ]
    }
   ],
   "metadata": {}
  },
  {
   "cell_type": "code",
   "execution_count": 40,
   "source": [
    "total_horas = 0\r\n",
    "\r\n",
    "for dia in dias_da_semana:\r\n",
    "    # total_horas = total_horas + ... \r\n",
    "    total_horas += atividades.get(dia, 0)\r\n",
    "\r\n",
    "print(total_horas)"
   ],
   "outputs": [
    {
     "output_type": "stream",
     "name": "stdout",
     "text": [
      "9\n"
     ]
    }
   ],
   "metadata": {}
  },
  {
   "cell_type": "code",
   "execution_count": 41,
   "source": [
    "dias_da_semana.add('dia do saco cheio')\r\n",
    "\r\n",
    "dias_da_semana"
   ],
   "outputs": [
    {
     "output_type": "execute_result",
     "data": {
      "text/plain": [
       "{'dia do saco cheio',\n",
       " 'domingo',\n",
       " 'quarta',\n",
       " 'quinta',\n",
       " 'sabado',\n",
       " 'segunda',\n",
       " 'sexta',\n",
       " 'terça'}"
      ]
     },
     "metadata": {},
     "execution_count": 41
    }
   ],
   "metadata": {}
  },
  {
   "cell_type": "code",
   "execution_count": 42,
   "source": [
    "dias_da_semana.remove('dia do saco cheio')\r\n",
    "\r\n",
    "dias_da_semana"
   ],
   "outputs": [
    {
     "output_type": "execute_result",
     "data": {
      "text/plain": [
       "{'domingo', 'quarta', 'quinta', 'sabado', 'segunda', 'sexta', 'terça'}"
      ]
     },
     "metadata": {},
     "execution_count": 42
    }
   ],
   "metadata": {}
  },
  {
   "cell_type": "markdown",
   "source": [
    "### Tuplas"
   ],
   "metadata": {}
  },
  {
   "cell_type": "code",
   "execution_count": 44,
   "source": [
    "minha_primeira_tupla = tuple([1, 5, 9])\r\n",
    "\r\n",
    "minha_primeira_tupla"
   ],
   "outputs": [
    {
     "output_type": "execute_result",
     "data": {
      "text/plain": [
       "(1, 5, 9)"
      ]
     },
     "metadata": {},
     "execution_count": 44
    }
   ],
   "metadata": {}
  },
  {
   "cell_type": "code",
   "execution_count": 47,
   "source": [
    "minha_primeira_tupla[0]\r\n",
    "minha_primeira_tupla[1]\r\n",
    "minha_primeira_tupla[2]"
   ],
   "outputs": [
    {
     "output_type": "execute_result",
     "data": {
      "text/plain": [
       "9"
      ]
     },
     "metadata": {},
     "execution_count": 47
    }
   ],
   "metadata": {}
  },
  {
   "cell_type": "code",
   "execution_count": 48,
   "source": [
    "for i in minha_primeira_tupla:\r\n",
    "    print(i)"
   ],
   "outputs": [
    {
     "output_type": "stream",
     "name": "stdout",
     "text": [
      "1\n",
      "5\n",
      "9\n"
     ]
    }
   ],
   "metadata": {}
  },
  {
   "cell_type": "code",
   "execution_count": 49,
   "source": [
    "dias_da_semana_tupla = tuple(dias_da_semana)"
   ],
   "outputs": [],
   "metadata": {}
  },
  {
   "cell_type": "code",
   "execution_count": 50,
   "source": [
    "dias_da_semana_tupla"
   ],
   "outputs": [
    {
     "output_type": "execute_result",
     "data": {
      "text/plain": [
       "('sabado', 'sexta', 'quinta', 'terça', 'quarta', 'segunda', 'domingo')"
      ]
     },
     "metadata": {},
     "execution_count": 50
    }
   ],
   "metadata": {}
  },
  {
   "cell_type": "code",
   "execution_count": 51,
   "source": [
    "list(dias_da_semana)"
   ],
   "outputs": [
    {
     "output_type": "execute_result",
     "data": {
      "text/plain": [
       "['sabado', 'sexta', 'quinta', 'terça', 'quarta', 'segunda', 'domingo']"
      ]
     },
     "metadata": {},
     "execution_count": 51
    }
   ],
   "metadata": {}
  },
  {
   "cell_type": "code",
   "execution_count": 53,
   "source": [
    "for chave, valor in atividades.items():\r\n",
    "    print(f'{chave} -> {valor}')"
   ],
   "outputs": [
    {
     "output_type": "stream",
     "name": "stdout",
     "text": [
      "segunda -> 5\n",
      "terça -> 2\n",
      "quinta -> 1\n",
      "domingo -> 1\n"
     ]
    }
   ],
   "metadata": {}
  },
  {
   "cell_type": "code",
   "execution_count": 54,
   "source": [
    "lista_de_tuplas = [\r\n",
    "    ('a', 'b', 'c'),\r\n",
    "    ('d', 'e', 'f')\r\n",
    "]"
   ],
   "outputs": [],
   "metadata": {}
  },
  {
   "cell_type": "code",
   "execution_count": 55,
   "source": [
    "for i,j,k in lista_de_tuplas:\r\n",
    "    print(f'{i} -> {j} -> {k}')"
   ],
   "outputs": [
    {
     "output_type": "stream",
     "name": "stdout",
     "text": [
      "a -> b -> c\n",
      "d -> e -> f\n"
     ]
    }
   ],
   "metadata": {}
  }
 ],
 "metadata": {
  "orig_nbformat": 4,
  "language_info": {
   "name": "python",
   "version": "3.9.4",
   "mimetype": "text/x-python",
   "codemirror_mode": {
    "name": "ipython",
    "version": 3
   },
   "pygments_lexer": "ipython3",
   "nbconvert_exporter": "python",
   "file_extension": ".py"
  },
  "kernelspec": {
   "name": "python3",
   "display_name": "Python 3.9.4 64-bit"
  },
  "interpreter": {
   "hash": "55421908667a225820f2cd05496734e43c3ddbc7d792b945edc730d5b93ba56f"
  }
 },
 "nbformat": 4,
 "nbformat_minor": 2
}