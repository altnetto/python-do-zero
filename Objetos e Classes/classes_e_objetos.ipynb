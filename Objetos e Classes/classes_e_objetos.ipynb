{
 "cells": [
  {
   "cell_type": "markdown",
   "source": [
    "### Objetos e Classes\r\n",
    "\r\n",
    "Um objeto é uma instância de uma classe\r\n",
    "\r\n",
    "- Intância nada mais é que uma \"chamada\"/atribuição de uma classe\r\n",
    "- Toda instância (objeto) possui os métodos e propriedades de sua classe"
   ],
   "metadata": {}
  },
  {
   "cell_type": "code",
   "execution_count": 49,
   "source": [
    "x = list()\r\n",
    "\r\n",
    "x.append(5)\r\n",
    "\r\n",
    "x"
   ],
   "outputs": [
    {
     "output_type": "execute_result",
     "data": {
      "text/plain": [
       "[5]"
      ]
     },
     "metadata": {},
     "execution_count": 49
    }
   ],
   "metadata": {}
  },
  {
   "cell_type": "code",
   "execution_count": 50,
   "source": [
    "x.pop(0)"
   ],
   "outputs": [
    {
     "output_type": "execute_result",
     "data": {
      "text/plain": [
       "5"
      ]
     },
     "metadata": {},
     "execution_count": 50
    }
   ],
   "metadata": {}
  },
  {
   "cell_type": "code",
   "execution_count": 51,
   "source": [
    "class Funcionario:\r\n",
    "    # os métodos e propriedades nativos da linguagem Python, utilizam a representação __x__\r\n",
    "    # __init__ é o construtor da classe, ou seja, recebe as primeiras ações ao instanciar um objeto\r\n",
    "    def __init__(self, nome: str, salario: float):\r\n",
    "        self.nome = nome\r\n",
    "        self.salario = salario\r\n",
    "\r\n",
    "    \r\n",
    "    # __str__ simboliza a representação do objeto quando se transforma ele em string\r\n",
    "    def __str__(self):\r\n",
    "\r\n",
    "        # :.2f representa a forma formatada de um número com 2 casas decimais (ex: 100.00)\r\n",
    "        return f'Nome: {self.nome}, Salário: {self.salario:.2f}.'\r\n",
    "        \r\n"
   ],
   "outputs": [],
   "metadata": {}
  },
  {
   "cell_type": "code",
   "execution_count": 52,
   "source": [
    "manoel = Funcionario('Manoel Pedro de Alcântara', 3000.00)"
   ],
   "outputs": [],
   "metadata": {}
  },
  {
   "cell_type": "code",
   "execution_count": 53,
   "source": [
    "manoel.nome"
   ],
   "outputs": [
    {
     "output_type": "execute_result",
     "data": {
      "text/plain": [
       "'Manoel Pedro de Alcântara'"
      ]
     },
     "metadata": {},
     "execution_count": 53
    }
   ],
   "metadata": {}
  },
  {
   "cell_type": "code",
   "execution_count": 54,
   "source": [
    "manoel.salario"
   ],
   "outputs": [
    {
     "output_type": "execute_result",
     "data": {
      "text/plain": [
       "3000.0"
      ]
     },
     "metadata": {},
     "execution_count": 54
    }
   ],
   "metadata": {}
  },
  {
   "cell_type": "code",
   "execution_count": 55,
   "source": [
    "str(manoel)"
   ],
   "outputs": [
    {
     "output_type": "execute_result",
     "data": {
      "text/plain": [
       "'Nome: Manoel Pedro de Alcântara, Salário: 3000.00.'"
      ]
     },
     "metadata": {},
     "execution_count": 55
    }
   ],
   "metadata": {}
  },
  {
   "cell_type": "code",
   "execution_count": 73,
   "source": [
    "# Em Python, podemos herdar os métodos e propriedades de uma classe, ao se utilizar a sintaxe: class NovaClasse(VelhaClasse)\r\n",
    "class Vendedor(Funcionario):\r\n",
    "    def inserir_comissao(self, comissao: float):\r\n",
    "        self.salario += comissao\r\n",
    "\r\n",
    "\r\n",
    "    def __eq__(self, outro_vendedor):\r\n",
    "        compara_nome = self.nome == outro_vendedor.nome\r\n",
    "        compara_salario = self.salario == outro_vendedor.salario\r\n",
    "\r\n",
    "        if compara_nome and compara_salario:\r\n",
    "            return True\r\n",
    "\r\n",
    "        else:\r\n",
    "            return False\r\n",
    "\r\n",
    "\r\n",
    "    # gt significa 'greater than', ou seja, 'maior que'\r\n",
    "    def __gt__(self, outro_vendedor):\r\n",
    "        if self.salario > outro_vendedor.salario:\r\n",
    "            return True\r\n",
    "\r\n",
    "        else:\r\n",
    "            return False\r\n",
    "\r\n",
    "\r\n",
    "    # lt significa 'lower than', ou seja, 'menor que'\r\n",
    "    def __lt__(self, outro_vendedor):\r\n",
    "        if self.salario < outro_vendedor.salario:\r\n",
    "            return True\r\n",
    "\r\n",
    "        else:\r\n",
    "            return False\r\n"
   ],
   "outputs": [],
   "metadata": {}
  },
  {
   "cell_type": "code",
   "execution_count": 57,
   "source": [
    "andre = Vendedor('André Lima Duarte', 4000.00)"
   ],
   "outputs": [],
   "metadata": {}
  },
  {
   "cell_type": "code",
   "execution_count": 58,
   "source": [
    "str(andre)"
   ],
   "outputs": [
    {
     "output_type": "execute_result",
     "data": {
      "text/plain": [
       "'Nome: André Lima Duarte, Salário: 4000.00.'"
      ]
     },
     "metadata": {},
     "execution_count": 58
    }
   ],
   "metadata": {}
  },
  {
   "cell_type": "code",
   "execution_count": 59,
   "source": [
    "andre.inserir_comissao(2000.00)\r\n",
    "\r\n",
    "str(andre)"
   ],
   "outputs": [
    {
     "output_type": "execute_result",
     "data": {
      "text/plain": [
       "'Nome: André Lima Duarte, Salário: 6000.00.'"
      ]
     },
     "metadata": {},
     "execution_count": 59
    }
   ],
   "metadata": {}
  },
  {
   "cell_type": "code",
   "execution_count": 60,
   "source": [
    "andre.inserir_comissao(1000)\r\n",
    "\r\n",
    "str(andre)"
   ],
   "outputs": [
    {
     "output_type": "execute_result",
     "data": {
      "text/plain": [
       "'Nome: André Lima Duarte, Salário: 7000.00.'"
      ]
     },
     "metadata": {},
     "execution_count": 60
    }
   ],
   "metadata": {}
  },
  {
   "cell_type": "code",
   "execution_count": 61,
   "source": [
    "outro_andre = Vendedor('André Lima Duarte', 7000)"
   ],
   "outputs": [],
   "metadata": {}
  },
  {
   "cell_type": "code",
   "execution_count": 62,
   "source": [
    "str(outro_andre)"
   ],
   "outputs": [
    {
     "output_type": "execute_result",
     "data": {
      "text/plain": [
       "'Nome: André Lima Duarte, Salário: 7000.00.'"
      ]
     },
     "metadata": {},
     "execution_count": 62
    }
   ],
   "metadata": {}
  },
  {
   "cell_type": "code",
   "execution_count": 63,
   "source": [
    "outro_andre == andre"
   ],
   "outputs": [
    {
     "output_type": "execute_result",
     "data": {
      "text/plain": [
       "True"
      ]
     },
     "metadata": {},
     "execution_count": 63
    }
   ],
   "metadata": {}
  },
  {
   "cell_type": "code",
   "execution_count": 64,
   "source": [
    "manoel == andre"
   ],
   "outputs": [
    {
     "output_type": "execute_result",
     "data": {
      "text/plain": [
       "False"
      ]
     },
     "metadata": {},
     "execution_count": 64
    }
   ],
   "metadata": {}
  },
  {
   "cell_type": "code",
   "execution_count": 65,
   "source": [
    "mais_um_andre = Funcionario('André Lima Duarte', 7000)"
   ],
   "outputs": [],
   "metadata": {}
  },
  {
   "cell_type": "code",
   "execution_count": 66,
   "source": [
    "str(mais_um_andre)"
   ],
   "outputs": [
    {
     "output_type": "execute_result",
     "data": {
      "text/plain": [
       "'Nome: André Lima Duarte, Salário: 7000.00.'"
      ]
     },
     "metadata": {},
     "execution_count": 66
    }
   ],
   "metadata": {}
  },
  {
   "cell_type": "code",
   "execution_count": 67,
   "source": [
    "mais_um_andre == manoel"
   ],
   "outputs": [
    {
     "output_type": "execute_result",
     "data": {
      "text/plain": [
       "False"
      ]
     },
     "metadata": {},
     "execution_count": 67
    }
   ],
   "metadata": {}
  },
  {
   "cell_type": "code",
   "execution_count": 68,
   "source": [
    "mais_um_andre == outro_andre"
   ],
   "outputs": [
    {
     "output_type": "execute_result",
     "data": {
      "text/plain": [
       "True"
      ]
     },
     "metadata": {},
     "execution_count": 68
    }
   ],
   "metadata": {}
  },
  {
   "cell_type": "code",
   "execution_count": 69,
   "source": [
    "mais_um_andre == andre"
   ],
   "outputs": [
    {
     "output_type": "execute_result",
     "data": {
      "text/plain": [
       "True"
      ]
     },
     "metadata": {},
     "execution_count": 69
    }
   ],
   "metadata": {}
  },
  {
   "cell_type": "markdown",
   "source": [
    "A partir das demonstrações acima, podemos verificar que objetos de classes similares (que compartilham de uma mesma classe pai), mas não necessariamente da mesma classe, podem ser comparados. Isto NÃO quer dizer que pode ser sempre, devendo-se respeitar suas peculiaridades."
   ],
   "metadata": {}
  },
  {
   "cell_type": "code",
   "execution_count": 70,
   "source": [
    "manoel > andre"
   ],
   "outputs": [
    {
     "output_type": "execute_result",
     "data": {
      "text/plain": [
       "False"
      ]
     },
     "metadata": {},
     "execution_count": 70
    }
   ],
   "metadata": {}
  }
 ],
 "metadata": {
  "orig_nbformat": 4,
  "language_info": {
   "name": "python",
   "version": "3.9.4",
   "mimetype": "text/x-python",
   "codemirror_mode": {
    "name": "ipython",
    "version": 3
   },
   "pygments_lexer": "ipython3",
   "nbconvert_exporter": "python",
   "file_extension": ".py"
  },
  "kernelspec": {
   "name": "python3",
   "display_name": "Python 3.9.4 64-bit"
  },
  "interpreter": {
   "hash": "55421908667a225820f2cd05496734e43c3ddbc7d792b945edc730d5b93ba56f"
  }
 },
 "nbformat": 4,
 "nbformat_minor": 2
}