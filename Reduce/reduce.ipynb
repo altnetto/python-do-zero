{
 "cells": [
  {
   "cell_type": "markdown",
   "source": [
    "### Reduce\r\n",
    "\r\n",
    "Um conjunto de elementos se torna apenas um"
   ],
   "metadata": {}
  },
  {
   "cell_type": "code",
   "execution_count": 4,
   "source": [
    "from functools import reduce\r\n",
    "\r\n",
    "a = [1,2,3,4]\r\n",
    "\r\n",
    "# x: armazena o resultado total\r\n",
    "# y: próximo resultado\r\n",
    "\r\n",
    "b = reduce(lambda x,y: x+y, a)\r\n",
    "c = sum(a)"
   ],
   "outputs": [],
   "metadata": {}
  },
  {
   "cell_type": "code",
   "execution_count": 5,
   "source": [
    "print('Resultado do reduce:', b)\r\n",
    "print('Resultado do sum:', c)"
   ],
   "outputs": [
    {
     "output_type": "stream",
     "name": "stdout",
     "text": [
      "Resultado do reduce: 10\n",
      "Resultado do sum: 10\n"
     ]
    }
   ],
   "metadata": {}
  },
  {
   "cell_type": "code",
   "execution_count": 6,
   "source": [
    "# equação de fatorial -> 4! => 4x3x2x1\r\n",
    "\r\n",
    "d = reduce(lambda x,y: x*y, a)\r\n",
    "d"
   ],
   "outputs": [
    {
     "output_type": "execute_result",
     "data": {
      "text/plain": [
       "24"
      ]
     },
     "metadata": {},
     "execution_count": 6
    }
   ],
   "metadata": {}
  },
  {
   "cell_type": "code",
   "execution_count": 7,
   "source": [
    "from typing import List\r\n",
    "\r\n",
    "def filtro_de_numeros_pares(numeros: List[int]) -> List[int]:\r\n",
    "    return [ numero for numero in numeros if numero % 2 == 0 ]"
   ],
   "outputs": [],
   "metadata": {}
  },
  {
   "cell_type": "code",
   "execution_count": null,
   "source": [],
   "outputs": [],
   "metadata": {}
  },
  {
   "cell_type": "code",
   "execution_count": 8,
   "source": [
    "x = filtro_de_numeros_pares(a)\r\n",
    "\r\n",
    "x"
   ],
   "outputs": [
    {
     "output_type": "execute_result",
     "data": {
      "text/plain": [
       "[2, 4]"
      ]
     },
     "metadata": {},
     "execution_count": 8
    }
   ],
   "metadata": {}
  },
  {
   "cell_type": "code",
   "execution_count": 9,
   "source": [
    "reduce_com_numeros_pares = reduce(lambda x,y: x*y, x)\r\n",
    "\r\n",
    "reduce_com_numeros_pares"
   ],
   "outputs": [
    {
     "output_type": "execute_result",
     "data": {
      "text/plain": [
       "8"
      ]
     },
     "metadata": {},
     "execution_count": 9
    }
   ],
   "metadata": {}
  },
  {
   "cell_type": "code",
   "execution_count": 10,
   "source": [
    "func_multiplicacao = lambda x,y: x*y\r\n",
    "\r\n",
    "reduce_com_numeros_pares_2 = reduce(func_multiplicacao, x)\r\n",
    "\r\n",
    "reduce_com_numeros_pares_2"
   ],
   "outputs": [
    {
     "output_type": "execute_result",
     "data": {
      "text/plain": [
       "8"
      ]
     },
     "metadata": {},
     "execution_count": 10
    }
   ],
   "metadata": {}
  },
  {
   "cell_type": "code",
   "execution_count": 11,
   "source": [
    "def func_mult_2(x,y):\r\n",
    "    return x*y"
   ],
   "outputs": [],
   "metadata": {}
  },
  {
   "cell_type": "code",
   "execution_count": 12,
   "source": [
    "reduce_com_numeros_pares_3 = reduce(func_mult_2, x)\r\n",
    "\r\n",
    "reduce_com_numeros_pares_3"
   ],
   "outputs": [
    {
     "output_type": "execute_result",
     "data": {
      "text/plain": [
       "8"
      ]
     },
     "metadata": {},
     "execution_count": 12
    }
   ],
   "metadata": {}
  }
 ],
 "metadata": {
  "orig_nbformat": 4,
  "language_info": {
   "name": "python",
   "version": "3.9.4",
   "mimetype": "text/x-python",
   "codemirror_mode": {
    "name": "ipython",
    "version": 3
   },
   "pygments_lexer": "ipython3",
   "nbconvert_exporter": "python",
   "file_extension": ".py"
  },
  "kernelspec": {
   "name": "python3",
   "display_name": "Python 3.9.4 64-bit"
  },
  "interpreter": {
   "hash": "55421908667a225820f2cd05496734e43c3ddbc7d792b945edc730d5b93ba56f"
  }
 },
 "nbformat": 4,
 "nbformat_minor": 2
}