{
 "cells": [
  {
   "cell_type": "markdown",
   "source": [
    "### Funções Lambda e Comprehensions"
   ],
   "metadata": {}
  },
  {
   "cell_type": "code",
   "execution_count": 1,
   "source": [
    "f = lambda x: x**2 + 2*x + 3\r\n",
    "\r\n",
    "f(2)"
   ],
   "outputs": [
    {
     "output_type": "execute_result",
     "data": {
      "text/plain": [
       "11"
      ]
     },
     "metadata": {},
     "execution_count": 1
    }
   ],
   "metadata": {}
  },
  {
   "cell_type": "code",
   "execution_count": 2,
   "source": [
    "g = lambda x, y, z: x + 2*y + 3*z \r\n",
    "\r\n",
    "g(3,2,1)"
   ],
   "outputs": [
    {
     "output_type": "execute_result",
     "data": {
      "text/plain": [
       "10"
      ]
     },
     "metadata": {},
     "execution_count": 2
    }
   ],
   "metadata": {}
  },
  {
   "cell_type": "code",
   "execution_count": 3,
   "source": [
    "h = lambda texto: texto.upper()\r\n",
    "\r\n",
    "h('olá colegas')"
   ],
   "outputs": [
    {
     "output_type": "execute_result",
     "data": {
      "text/plain": [
       "'OLÁ COLEGAS'"
      ]
     },
     "metadata": {},
     "execution_count": 3
    }
   ],
   "metadata": {}
  },
  {
   "cell_type": "markdown",
   "source": [
    "Comprehensions"
   ],
   "metadata": {}
  },
  {
   "cell_type": "code",
   "execution_count": 4,
   "source": [
    "lista_generica_de_automoveis = ['kombi', 'veraneio', 'fusca']"
   ],
   "outputs": [],
   "metadata": {}
  },
  {
   "cell_type": "code",
   "execution_count": 5,
   "source": [
    "lista_generica_de_automoveis_renovada = [ f'Meu automóvel é: {elemento}' for elemento in lista_generica_de_automoveis ]"
   ],
   "outputs": [],
   "metadata": {}
  },
  {
   "cell_type": "code",
   "execution_count": 7,
   "source": [
    "meu_automovel = lambda automovel: f'Meu automóvel é: {automovel}'\r\n",
    "\r\n",
    "\r\n",
    "lista_generica_de_automoveis_renovada_2 = [ meu_automovel(automovel) for automovel in lista_generica_de_automoveis ]"
   ],
   "outputs": [],
   "metadata": {}
  },
  {
   "cell_type": "code",
   "execution_count": 6,
   "source": [
    "for i in lista_generica_de_automoveis_renovada:\r\n",
    "    print(i)"
   ],
   "outputs": [
    {
     "output_type": "stream",
     "name": "stdout",
     "text": [
      "Meu automóvel é: kombi\n",
      "Meu automóvel é: veraneio\n",
      "Meu automóvel é: fusca\n"
     ]
    }
   ],
   "metadata": {}
  },
  {
   "cell_type": "code",
   "execution_count": 8,
   "source": [
    "for i in lista_generica_de_automoveis_renovada_2:\r\n",
    "    print(i)"
   ],
   "outputs": [
    {
     "output_type": "stream",
     "name": "stdout",
     "text": [
      "Meu automóvel é: kombi\n",
      "Meu automóvel é: veraneio\n",
      "Meu automóvel é: fusca\n"
     ]
    }
   ],
   "metadata": {}
  },
  {
   "cell_type": "markdown",
   "source": [
    "### Map, Filter e Reduce\r\n",
    "\r\n",
    "- Map: uma operação que transforma elementos dentro de um conjunto\r\n",
    "\r\n",
    "- Filter: operação que realiza filtragem dos elementos de um conjunto\r\n",
    "\r\n",
    "- Reduce: operação que reduz os valores de um conjunto para um valor reduzido"
   ],
   "metadata": {}
  },
  {
   "cell_type": "code",
   "execution_count": 11,
   "source": [
    "lista_generica_de_automoveis_renovada_3 = list(map(lambda x: f'Meu automóvel é: {x}', lista_generica_de_automoveis))"
   ],
   "outputs": [],
   "metadata": {}
  },
  {
   "cell_type": "code",
   "execution_count": 12,
   "source": [
    "lista_generica_de_automoveis_renovada_3"
   ],
   "outputs": [
    {
     "output_type": "execute_result",
     "data": {
      "text/plain": [
       "['Meu automóvel é: kombi',\n",
       " 'Meu automóvel é: veraneio',\n",
       " 'Meu automóvel é: fusca']"
      ]
     },
     "metadata": {},
     "execution_count": 12
    }
   ],
   "metadata": {}
  },
  {
   "cell_type": "code",
   "execution_count": 13,
   "source": [
    "lista_de_numeros = [i for i in range(10)]\r\n",
    "\r\n",
    "lista_de_numeros"
   ],
   "outputs": [
    {
     "output_type": "execute_result",
     "data": {
      "text/plain": [
       "[0, 1, 2, 3, 4, 5, 6, 7, 8, 9]"
      ]
     },
     "metadata": {},
     "execution_count": 13
    }
   ],
   "metadata": {}
  },
  {
   "cell_type": "markdown",
   "source": [
    "Filtre os elementos de lista_de_numeros que são divisíveis por 2"
   ],
   "metadata": {}
  },
  {
   "cell_type": "code",
   "execution_count": 16,
   "source": [
    "lista_filtrada_2 = list(filter(lambda x: x % 2 == 0, lista_de_numeros))\r\n",
    "lista_filtrada_3 = list(filter(lambda x: x % 3 == 0, lista_de_numeros))\r\n",
    "\r\n",
    "print('Elementos divisíveis por 2:', lista_filtrada_2)\r\n",
    "print('Elementos divisíveis por 3:', lista_filtrada_3)"
   ],
   "outputs": [
    {
     "output_type": "stream",
     "name": "stdout",
     "text": [
      "Elementos divisíveis por 2: [0, 2, 4, 6, 8]\n",
      "Elementos divisíveis por 3: [0, 3, 6, 9]\n"
     ]
    }
   ],
   "metadata": {}
  },
  {
   "cell_type": "code",
   "execution_count": 17,
   "source": [
    "e_divisivel = lambda x,y: x % y == 0\r\n",
    "\r\n",
    "lista_filtrada_2 = list(filter(lambda numero: e_divisivel(numero, 2), lista_de_numeros))\r\n",
    "lista_filtrada_3 = list(filter(lambda numero: e_divisivel(numero, 3), lista_de_numeros))\r\n",
    "\r\n",
    "\r\n",
    "print('Elementos divisíveis por 2:', lista_filtrada_2)\r\n",
    "print('Elementos divisíveis por 3:', lista_filtrada_3)"
   ],
   "outputs": [
    {
     "output_type": "stream",
     "name": "stdout",
     "text": [
      "Elementos divisíveis por 2: [0, 2, 4, 6, 8]\n",
      "Elementos divisíveis por 3: [0, 3, 6, 9]\n"
     ]
    }
   ],
   "metadata": {}
  },
  {
   "cell_type": "markdown",
   "source": [
    "Comprehension com Sets e Dicionários"
   ],
   "metadata": {}
  },
  {
   "cell_type": "code",
   "execution_count": 19,
   "source": [
    "from random import randint\r\n",
    "\r\n",
    "lista_de_numeros_aleatorios = [ randint(0, elemento) for elemento in range(20) ]\r\n",
    "lista_de_numeros_aleatorios"
   ],
   "outputs": [
    {
     "output_type": "execute_result",
     "data": {
      "text/plain": [
       "[0, 0, 1, 3, 4, 1, 2, 0, 5, 0, 9, 3, 6, 0, 7, 1, 14, 0, 13, 2]"
      ]
     },
     "metadata": {},
     "execution_count": 19
    }
   ],
   "metadata": {}
  },
  {
   "cell_type": "code",
   "execution_count": 22,
   "source": [
    "lista_de_numeros_aleatorios.sort()\r\n",
    "lista_de_numeros_aleatorios"
   ],
   "outputs": [
    {
     "output_type": "execute_result",
     "data": {
      "text/plain": [
       "[0, 0, 0, 0, 0, 0, 1, 1, 1, 2, 2, 3, 3, 4, 5, 6, 7, 9, 13, 14]"
      ]
     },
     "metadata": {},
     "execution_count": 22
    }
   ],
   "metadata": {}
  },
  {
   "cell_type": "code",
   "execution_count": 23,
   "source": [
    "set_aleatorios = set(lista_de_numeros_aleatorios)\r\n",
    "set_aleatorios"
   ],
   "outputs": [
    {
     "output_type": "execute_result",
     "data": {
      "text/plain": [
       "{0, 1, 2, 3, 4, 5, 6, 7, 9, 13, 14}"
      ]
     },
     "metadata": {},
     "execution_count": 23
    }
   ],
   "metadata": {}
  },
  {
   "cell_type": "code",
   "execution_count": 27,
   "source": [
    "set_comprehension = { elemento for elemento in lista_de_numeros_aleatorios }\r\n",
    "\r\n",
    "print(set_comprehension)"
   ],
   "outputs": [
    {
     "output_type": "stream",
     "name": "stdout",
     "text": [
      "{0, 1, 2, 3, 4, 5, 6, 7, 9, 13, 14}\n"
     ]
    }
   ],
   "metadata": {}
  },
  {
   "cell_type": "code",
   "execution_count": 28,
   "source": [
    "dicionario_comprehension = { f'elemento {elemento}': elemento for elemento in lista_de_numeros_aleatorios }"
   ],
   "outputs": [],
   "metadata": {}
  },
  {
   "cell_type": "code",
   "execution_count": 29,
   "source": [
    "dicionario_comprehension"
   ],
   "outputs": [
    {
     "output_type": "execute_result",
     "data": {
      "text/plain": [
       "{'elemento 0': 0,\n",
       " 'elemento 1': 1,\n",
       " 'elemento 2': 2,\n",
       " 'elemento 3': 3,\n",
       " 'elemento 4': 4,\n",
       " 'elemento 5': 5,\n",
       " 'elemento 6': 6,\n",
       " 'elemento 7': 7,\n",
       " 'elemento 9': 9,\n",
       " 'elemento 13': 13,\n",
       " 'elemento 14': 14}"
      ]
     },
     "metadata": {},
     "execution_count": 29
    }
   ],
   "metadata": {}
  },
  {
   "cell_type": "code",
   "execution_count": 31,
   "source": [
    "dict_comprehension = { f'elemento {e}': lista_de_numeros_aleatorios.count(e) for e in set_aleatorios }\r\n",
    "\r\n",
    "dict_comprehension"
   ],
   "outputs": [
    {
     "output_type": "execute_result",
     "data": {
      "text/plain": [
       "{'elemento 0': 6,\n",
       " 'elemento 1': 3,\n",
       " 'elemento 2': 2,\n",
       " 'elemento 3': 2,\n",
       " 'elemento 4': 1,\n",
       " 'elemento 5': 1,\n",
       " 'elemento 6': 1,\n",
       " 'elemento 7': 1,\n",
       " 'elemento 9': 1,\n",
       " 'elemento 13': 1,\n",
       " 'elemento 14': 1}"
      ]
     },
     "metadata": {},
     "execution_count": 31
    }
   ],
   "metadata": {}
  }
 ],
 "metadata": {
  "orig_nbformat": 4,
  "language_info": {
   "name": "python",
   "version": "3.9.4",
   "mimetype": "text/x-python",
   "codemirror_mode": {
    "name": "ipython",
    "version": 3
   },
   "pygments_lexer": "ipython3",
   "nbconvert_exporter": "python",
   "file_extension": ".py"
  },
  "kernelspec": {
   "name": "python3",
   "display_name": "Python 3.9.4 64-bit"
  },
  "interpreter": {
   "hash": "55421908667a225820f2cd05496734e43c3ddbc7d792b945edc730d5b93ba56f"
  }
 },
 "nbformat": 4,
 "nbformat_minor": 2
}