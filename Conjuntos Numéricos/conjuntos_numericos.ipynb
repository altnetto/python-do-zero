{
 "cells": [
  {
   "cell_type": "markdown",
   "source": [
    "## Conjuntos Numéricos\r\n",
    "\r\n",
    "São todo o conjunto ou agrupamento de dados, que são nativos do Python e nos oferecem diversas vantagens em termos de programação\r\n",
    "\r\n",
    "- Lista\r\n",
    "    - Sintaxe: [a,b,c,...]\r\n",
    "    - Mutável: você pode adicionar e remover elementos\r\n",
    "    - Aceita: \r\n",
    "        - Números\r\n",
    "        - Strings (texto)\r\n",
    "        - Booleanos (True/False)\r\n",
    "        - Outras listas\r\n",
    "        - Etc\r\n",
    "    - Ordinal: a posição que você insere o elemento, é a posição de acesso "
   ],
   "metadata": {}
  },
  {
   "cell_type": "code",
   "execution_count": 2,
   "source": [
    "minha_lista = ['Meu', 'primeiro', 'código', 'no', 'notebook']"
   ],
   "outputs": [],
   "metadata": {}
  },
  {
   "cell_type": "markdown",
   "source": [
    "Acesso aos elementos é feito por seu índice"
   ],
   "metadata": {}
  },
  {
   "cell_type": "code",
   "execution_count": 3,
   "source": [
    "minha_lista[0]"
   ],
   "outputs": [
    {
     "output_type": "execute_result",
     "data": {
      "text/plain": [
       "'Meu'"
      ]
     },
     "metadata": {},
     "execution_count": 3
    }
   ],
   "metadata": {}
  },
  {
   "cell_type": "markdown",
   "source": [
    "Verificando o tamanho da lista"
   ],
   "metadata": {}
  },
  {
   "cell_type": "code",
   "execution_count": 5,
   "source": [
    "len(minha_lista) # length"
   ],
   "outputs": [
    {
     "output_type": "execute_result",
     "data": {
      "text/plain": [
       "5"
      ]
     },
     "metadata": {},
     "execution_count": 5
    }
   ],
   "metadata": {}
  },
  {
   "cell_type": "markdown",
   "source": [
    "Iterar sobre uma lista"
   ],
   "metadata": {}
  },
  {
   "cell_type": "code",
   "execution_count": 6,
   "source": [
    "for elemento in minha_lista:\r\n",
    "    print(elemento)"
   ],
   "outputs": [
    {
     "output_type": "stream",
     "name": "stdout",
     "text": [
      "Meu\n",
      "primeiro\n",
      "código\n",
      "no\n",
      "notebook\n"
     ]
    }
   ],
   "metadata": {}
  },
  {
   "cell_type": "markdown",
   "source": [
    "Verificar se existe um elemento em uma lista"
   ],
   "metadata": {}
  },
  {
   "cell_type": "code",
   "execution_count": 7,
   "source": [
    "if 'código' in minha_lista:\r\n",
    "    print('O código está na lista!')"
   ],
   "outputs": [
    {
     "output_type": "stream",
     "name": "stdout",
     "text": [
      "O código está na lista!\n"
     ]
    }
   ],
   "metadata": {}
  },
  {
   "cell_type": "markdown",
   "source": [
    "Juntando elementos string de uma lista (join)"
   ],
   "metadata": {}
  },
  {
   "cell_type": "code",
   "execution_count": 8,
   "source": [
    "separador = ' '\r\n",
    "\r\n",
    "string_dos_elementos_da_lista = separador.join(minha_lista)\r\n",
    "print(string_dos_elementos_da_lista)"
   ],
   "outputs": [
    {
     "output_type": "stream",
     "name": "stdout",
     "text": [
      "Meu primeiro código no notebook\n"
     ]
    }
   ],
   "metadata": {}
  },
  {
   "cell_type": "code",
   "execution_count": 10,
   "source": [
    "separador = ', '\r\n",
    "\r\n",
    "string_dos_elementos_da_lista = separador.join(minha_lista)\r\n",
    "print(string_dos_elementos_da_lista)"
   ],
   "outputs": [
    {
     "output_type": "stream",
     "name": "stdout",
     "text": [
      "Meu, primeiro, código, no, notebook\n"
     ]
    }
   ],
   "metadata": {}
  }
 ],
 "metadata": {
  "orig_nbformat": 4,
  "language_info": {
   "name": "python",
   "version": "3.9.4",
   "mimetype": "text/x-python",
   "codemirror_mode": {
    "name": "ipython",
    "version": 3
   },
   "pygments_lexer": "ipython3",
   "nbconvert_exporter": "python",
   "file_extension": ".py"
  },
  "kernelspec": {
   "name": "python3",
   "display_name": "Python 3.9.4 64-bit"
  },
  "interpreter": {
   "hash": "55421908667a225820f2cd05496734e43c3ddbc7d792b945edc730d5b93ba56f"
  }
 },
 "nbformat": 4,
 "nbformat_minor": 2
}